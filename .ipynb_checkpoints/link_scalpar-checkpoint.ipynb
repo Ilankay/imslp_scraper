{
 "cells": [
  {
   "cell_type": "code",
   "execution_count": 32,
   "metadata": {},
   "outputs": [],
   "source": [
    "import numpy as np\n",
    "import json\n",
    "import requests"
   ]
  },
  {
   "cell_type": "code",
   "execution_count": 33,
   "metadata": {},
   "outputs": [],
   "source": [
    "links = {}"
   ]
  },
  {
   "cell_type": "code",
   "execution_count": 45,
   "metadata": {},
   "outputs": [],
   "source": [
    "def scrape_links(limit,count = 0):\n",
    "    print(count)\n",
    "    query = f\"http://imslp.org/imslpscripts/API.ISCR.php?account=worklist/disclaimer=accepted/sort=id/type=2/start={count+1}/retformat=json\"\n",
    "    response = requests.get(query)\n",
    "    if response.status_code != 200:\n",
    "        print(count,response.status_code)\n",
    "        return\n",
    "    \n",
    "    data = response.json()\n",
    "    \n",
    "    for index,i in enumerate(data.keys()):\n",
    "        try:\n",
    "            links[999*count+index] = data[i]['permlink']\n",
    "        except KeyError as e:\n",
    "            if count == limit:\n",
    "                return\n",
    "            else:\n",
    "                scrape_links(limit, count+1)\n",
    "        "
   ]
  },
  {
   "cell_type": "code",
   "execution_count": 46,
   "metadata": {},
   "outputs": [
    {
     "name": "stdout",
     "output_type": "stream",
     "text": [
      "0\n",
      "1\n",
      "2\n",
      "3\n"
     ]
    }
   ],
   "source": [
    "scrape_links(3)"
   ]
  },
  {
   "cell_type": "code",
   "execution_count": 47,
   "metadata": {},
   "outputs": [],
   "source": [
    "with open(\"jsons/links.json\",'w') as f:\n",
    "    json.dump(links,f)"
   ]
  },
  {
   "cell_type": "code",
   "execution_count": null,
   "metadata": {},
   "outputs": [],
   "source": []
  }
 ],
 "metadata": {
  "kernelspec": {
   "display_name": "Python 3 (ipykernel)",
   "language": "python",
   "name": "python3"
  },
  "language_info": {
   "codemirror_mode": {
    "name": "ipython",
    "version": 3
   },
   "file_extension": ".py",
   "mimetype": "text/x-python",
   "name": "python",
   "nbconvert_exporter": "python",
   "pygments_lexer": "ipython3",
   "version": "3.10.6"
  }
 },
 "nbformat": 4,
 "nbformat_minor": 2
}
